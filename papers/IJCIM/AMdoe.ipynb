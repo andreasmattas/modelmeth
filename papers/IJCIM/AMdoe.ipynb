{
 "metadata": {
  "name": "",
  "signature": "sha256:7918fa869d7cef2e136164e574f2e575c26f2e93394f0071bca39f2f578d428e"
 },
 "nbformat": 3,
 "nbformat_minor": 0,
 "worksheets": [
  {
   "cells": [
    {
     "cell_type": "heading",
     "level": 1,
     "metadata": {},
     "source": [
      "Laser Sintering Process Parameter Investigation"
     ]
    },
    {
     "cell_type": "markdown",
     "metadata": {},
     "source": [
      "||\n",
      "|--------|-------------|\n",
      "| Author: | Peter Denno |\n",
      "| Creation Date:   | 2014-08-12  |\n",
      "|Part Number: | 1234a|\n",
      "|Report ID: | 725A27D7-D794-408A-9409-F8820A246D53|\n"
     ]
    },
    {
     "cell_type": "heading",
     "level": 2,
     "metadata": {},
     "source": [
      "Introduction"
     ]
    },
    {
     "cell_type": "markdown",
     "metadata": {},
     "source": [
      "This report develops a predictive model for the selective laser sintering of production of part 1234a. (See process task xyz). The analysis described in this report picks up after screening experiments have identified that layer thickness, scan speed and oxygen content are key factors.  "
     ]
    },
    {
     "cell_type": "markdown",
     "metadata": {},
     "source": [
      "*POD ToDo: Hide this detail*"
     ]
    },
    {
     "cell_type": "code",
     "collapsed": false,
     "input": [
      "import numpy as np\n",
      "import statsmodels.api as sm # was up-to-date already (Latest version is 0.50 from August, 2013.)\n",
      "import matplotlib.pyplot as plt\n",
      "import pyDOE as doe  # \"pip install --upgrade pyDOE\" for this.\n",
      "import pandas as pd # \"pip install --upgrade pandas\" got version 0.14.1 (July, 2014, most-up-to-date stable version)\n",
      "from IPython.core.display import * # This gave me the Greek alphabet in MathJax, I think.\n",
      "from patsy import dmatrices # This is for creating design matrices using formulas similar to R.\n",
      "%matplotlib inline \n",
      "%aimport ereps"
     ],
     "language": "python",
     "metadata": {},
     "outputs": [],
     "prompt_number": 37
    },
    {
     "cell_type": "markdown",
     "metadata": {},
     "source": [
      "The first time you execute the next statement, it creates information about the report in the engineering report ontology. Every other time you execute it, it returns some of the information it originally created. * [Technical description: the http server starts a session (with a session cookie) and links all objects created in the report to that report. ] *"
     ]
    },
    {
     "cell_type": "code",
     "collapsed": false,
     "input": [
      "report = ereps.register_report(\"725A27D7-D794-408A-9409-F8820A246D53\")"
     ],
     "language": "python",
     "metadata": {},
     "outputs": [
      {
       "output_type": "stream",
       "stream": "stdout",
       "text": [
        "Session started for report 725A27D7-D794-408A-9409-F8820A246D53\n"
       ]
      }
     ],
     "prompt_number": 38
    },
    {
     "cell_type": "heading",
     "level": 2,
     "metadata": {},
     "source": [
      "Box-Behnken design"
     ]
    },
    {
     "cell_type": "code",
     "collapsed": false,
     "input": [
      "bbarray = doe.bbdesign(3) # Three factor Box-Behnken Design matrix\n",
      "bbarray"
     ],
     "language": "python",
     "metadata": {},
     "outputs": [
      {
       "metadata": {},
       "output_type": "pyout",
       "prompt_number": 39,
       "text": [
        "array([[-1., -1.,  0.],\n",
        "       [ 1., -1.,  0.],\n",
        "       [-1.,  1.,  0.],\n",
        "       [ 1.,  1.,  0.],\n",
        "       [-1.,  0., -1.],\n",
        "       [ 1.,  0., -1.],\n",
        "       [-1.,  0.,  1.],\n",
        "       [ 1.,  0.,  1.],\n",
        "       [ 0., -1., -1.],\n",
        "       [ 0.,  1., -1.],\n",
        "       [ 0., -1.,  1.],\n",
        "       [ 0.,  1.,  1.],\n",
        "       [ 0.,  0.,  0.],\n",
        "       [ 0.,  0.,  0.],\n",
        "       [ 0.,  0.,  0.]])"
       ]
      }
     ],
     "prompt_number": 39
    },
    {
     "cell_type": "markdown",
     "metadata": {},
     "source": [
      "Normalized explanatory variables:\n",
      "* $x_1$ = Scanning Speed (50, 100, 150) $mm/s$\n",
      "* $x_2$ = Layer Thickness (20, 35, 50) $\\mu m$ \n",
      "* $x_3$ = Oxygen content (.13, .15, .17) "
     ]
    },
    {
     "cell_type": "markdown",
     "metadata": {},
     "source": [
      "The variables are normalized so that they each vary over [-1,1]. Thus:\n",
      "* $X_1 = (x_1-100) / 50$\n",
      "* $X_2 = (x_2 - 35) / 15$\n",
      "* $X_3 = (x_3 - 0.15) / .02$"
     ]
    },
    {
     "cell_type": "heading",
     "level": 3,
     "metadata": {},
     "source": [
      "Get density data from Box-Behken experiments"
     ]
    },
    {
     "cell_type": "markdown",
     "metadata": {},
     "source": [
      "We reference experimental data through Jobs, which are occurrences of ProcessPlans. A TaskOccurrence in each job performs the density measurement. The data is ordered to correspond to the experimental runs using bbarray. "
     ]
    },
    {
     "cell_type": "code",
     "collapsed": false,
     "input": [
      "density = ereps.density_data(plans=ereps.job_list('report1',order_by=bbarray),task=2)\n",
      "density"
     ],
     "language": "python",
     "metadata": {},
     "outputs": [
      {
       "metadata": {},
       "output_type": "pyout",
       "prompt_number": 40,
       "text": [
        "[4.03,\n",
        " 4.03,\n",
        " 4.11,\n",
        " 4.09,\n",
        " 4.13,\n",
        " 4.11,\n",
        " 4.12,\n",
        " 4.11,\n",
        " 4.07,\n",
        " 4.09,\n",
        " 4.08,\n",
        " 4.1,\n",
        " 4.28,\n",
        " 4.29,\n",
        " 4.28]"
       ]
      }
     ],
     "prompt_number": 40
    },
    {
     "cell_type": "code",
     "collapsed": false,
     "input": [
      "(len(density), len(bbarray)) # Make sure I have all the data."
     ],
     "language": "python",
     "metadata": {},
     "outputs": [
      {
       "metadata": {},
       "output_type": "pyout",
       "prompt_number": 41,
       "text": [
        "(15, 15)"
       ]
      }
     ],
     "prompt_number": 41
    },
    {
     "cell_type": "heading",
     "level": 3,
     "metadata": {},
     "source": [
      "Part density quadratic model, no 3-factor interaction"
     ]
    },
    {
     "cell_type": "markdown",
     "metadata": {},
     "source": [
      "$Y = \\beta_0 + \\beta_1X_1 + \\beta_2X_2 + \\beta_3X_3 + \\beta_{12}X_1X_2 + \\beta_{13}X_1X_3 + \\beta_{23}X_2X_3\n",
      " + \\beta_{11}X_1^2 + \\beta_{22}X_2^2 + \\beta_{33}X_3^2 + experimental \\ error$"
     ]
    },
    {
     "cell_type": "markdown",
     "metadata": {},
     "source": [
      "Register such an equation for density response (Yden)."
     ]
    },
    {
     "cell_type": "code",
     "collapsed": false,
     "input": [
      "eqn = ereps.register_predictive(\"Yden = b0 + b1*x1 + b2*x2 + b3*x3 + b12*x1*x2 + b13*x1*x3 + b23*x2*x3 + b11*x1^2 + b22*x2^2 + b33*x3^2\")"
     ],
     "language": "python",
     "metadata": {},
     "outputs": [
      {
       "output_type": "stream",
       "stream": "stdout",
       "text": [
        "Eqn1 : Yden = b0 + b1*x1 + b2*x2 + b3*x3 + b12*x1*x2 + b13*x1*x3 + b23*x2*x3 + b11*x1^2 + b22*x2^2 + b33*x3^2\n"
       ]
      }
     ],
     "prompt_number": 42
    },
    {
     "cell_type": "code",
     "collapsed": false,
     "input": [
      "ereps.register_var(var=eqn+':x1',property_name='scan_speed')\n",
      "ereps.register_var(var=eqn+':x2',property_name='layer_thickness')\n",
      "ereps.register_var(var=eqn+':x3',property_name='oxygen_content')\n",
      "ereps.register_var(var=eqn+':Yden',property_name='density')"
     ],
     "language": "python",
     "metadata": {},
     "outputs": [
      {
       "output_type": "stream",
       "stream": "stdout",
       "text": [
        "Registered Eqn1:x1. property_name = scan_speed\n",
        "Registered Eqn1:x2. property_name = layer_thickness\n",
        "Registered Eqn1:x3. property_name = oxygen_content\n",
        "Registered Eqn1:Yden. property_name = density\n"
       ]
      }
     ],
     "prompt_number": 43
    },
    {
     "cell_type": "heading",
     "level": 3,
     "metadata": {},
     "source": [
      "Register the intended sense of variables."
     ]
    },
    {
     "cell_type": "markdown",
     "metadata": {},
     "source": [
      "Here the engineer goes 'off line' to find URLs in process terms, material terms and dimensions ontologies."
     ]
    },
    {
     "cell_type": "code",
     "collapsed": false,
     "input": [
      "ereps.register_var_sense(var=eqn+':x1',urls=['http://modelmeth.nist.gov/processTerms/am/laser_scan_speed'])\n",
      "ereps.register_var_sense(var=eqn+':x2',urls=['http://modelmeth.nist.gov/processTerms/am/layer_thickness'])\n",
      "ereps.register_var_sense(var=eqn+':x3',urls=['http://modelmeth.nist.gov/materialTerms/powder_met/oxygen_content'])\n",
      "ereps.register_var_sense(var=eqn+':Yden',urls=['http://modelmeth.nist.gov/dimensions/density/archimedes_method'])\n"
     ],
     "language": "python",
     "metadata": {},
     "outputs": [
      {
       "output_type": "stream",
       "stream": "stdout",
       "text": [
        "Linked variable Eqn1:x1. with sense (URLs) ['http://modelmeth.nist.gov/processTerms/am/laser_scan_speed']\n",
        "Linked variable Eqn1:x2. with sense (URLs) ['http://modelmeth.nist.gov/processTerms/am/layer_thickness']\n",
        "Linked variable Eqn1:x3. with sense (URLs) ['http://modelmeth.nist.gov/materialTerms/powder_met/oxygen_content']\n",
        "Linked variable Eqn1:Yden. with sense (URLs) ['http://modelmeth.nist.gov/dimensions/density/archimedes_method']\n"
       ]
      }
     ],
     "prompt_number": 44
    },
    {
     "cell_type": "heading",
     "level": 3,
     "metadata": {},
     "source": [
      "Construct table for analysis."
     ]
    },
    {
     "cell_type": "code",
     "collapsed": false,
     "input": [
      "df = pd.DataFrame(bbarray,columns=['scan_speed','layer_thickness','oxygen_content']) # assign variables to columns"
     ],
     "language": "python",
     "metadata": {},
     "outputs": [],
     "prompt_number": 45
    },
    {
     "cell_type": "code",
     "collapsed": false,
     "input": [
      "df['density'] = density # add a column for the response variable data\n",
      "df"
     ],
     "language": "python",
     "metadata": {},
     "outputs": [
      {
       "html": [
        "<div style=\"max-height:1000px;max-width:1500px;overflow:auto;\">\n",
        "<table border=\"1\" class=\"dataframe\">\n",
        "  <thead>\n",
        "    <tr style=\"text-align: right;\">\n",
        "      <th></th>\n",
        "      <th>scan_speed</th>\n",
        "      <th>layer_thickness</th>\n",
        "      <th>oxygen_content</th>\n",
        "      <th>density</th>\n",
        "    </tr>\n",
        "  </thead>\n",
        "  <tbody>\n",
        "    <tr>\n",
        "      <th>0 </th>\n",
        "      <td>-1</td>\n",
        "      <td>-1</td>\n",
        "      <td> 0</td>\n",
        "      <td> 4.03</td>\n",
        "    </tr>\n",
        "    <tr>\n",
        "      <th>1 </th>\n",
        "      <td> 1</td>\n",
        "      <td>-1</td>\n",
        "      <td> 0</td>\n",
        "      <td> 4.03</td>\n",
        "    </tr>\n",
        "    <tr>\n",
        "      <th>2 </th>\n",
        "      <td>-1</td>\n",
        "      <td> 1</td>\n",
        "      <td> 0</td>\n",
        "      <td> 4.11</td>\n",
        "    </tr>\n",
        "    <tr>\n",
        "      <th>3 </th>\n",
        "      <td> 1</td>\n",
        "      <td> 1</td>\n",
        "      <td> 0</td>\n",
        "      <td> 4.09</td>\n",
        "    </tr>\n",
        "    <tr>\n",
        "      <th>4 </th>\n",
        "      <td>-1</td>\n",
        "      <td> 0</td>\n",
        "      <td>-1</td>\n",
        "      <td> 4.13</td>\n",
        "    </tr>\n",
        "    <tr>\n",
        "      <th>5 </th>\n",
        "      <td> 1</td>\n",
        "      <td> 0</td>\n",
        "      <td>-1</td>\n",
        "      <td> 4.11</td>\n",
        "    </tr>\n",
        "    <tr>\n",
        "      <th>6 </th>\n",
        "      <td>-1</td>\n",
        "      <td> 0</td>\n",
        "      <td> 1</td>\n",
        "      <td> 4.12</td>\n",
        "    </tr>\n",
        "    <tr>\n",
        "      <th>7 </th>\n",
        "      <td> 1</td>\n",
        "      <td> 0</td>\n",
        "      <td> 1</td>\n",
        "      <td> 4.11</td>\n",
        "    </tr>\n",
        "    <tr>\n",
        "      <th>8 </th>\n",
        "      <td> 0</td>\n",
        "      <td>-1</td>\n",
        "      <td>-1</td>\n",
        "      <td> 4.07</td>\n",
        "    </tr>\n",
        "    <tr>\n",
        "      <th>9 </th>\n",
        "      <td> 0</td>\n",
        "      <td> 1</td>\n",
        "      <td>-1</td>\n",
        "      <td> 4.09</td>\n",
        "    </tr>\n",
        "    <tr>\n",
        "      <th>10</th>\n",
        "      <td> 0</td>\n",
        "      <td>-1</td>\n",
        "      <td> 1</td>\n",
        "      <td> 4.08</td>\n",
        "    </tr>\n",
        "    <tr>\n",
        "      <th>11</th>\n",
        "      <td> 0</td>\n",
        "      <td> 1</td>\n",
        "      <td> 1</td>\n",
        "      <td> 4.10</td>\n",
        "    </tr>\n",
        "    <tr>\n",
        "      <th>12</th>\n",
        "      <td> 0</td>\n",
        "      <td> 0</td>\n",
        "      <td> 0</td>\n",
        "      <td> 4.28</td>\n",
        "    </tr>\n",
        "    <tr>\n",
        "      <th>13</th>\n",
        "      <td> 0</td>\n",
        "      <td> 0</td>\n",
        "      <td> 0</td>\n",
        "      <td> 4.29</td>\n",
        "    </tr>\n",
        "    <tr>\n",
        "      <th>14</th>\n",
        "      <td> 0</td>\n",
        "      <td> 0</td>\n",
        "      <td> 0</td>\n",
        "      <td> 4.28</td>\n",
        "    </tr>\n",
        "  </tbody>\n",
        "</table>\n",
        "</div>"
       ],
       "metadata": {},
       "output_type": "pyout",
       "prompt_number": 46,
       "text": [
        "    scan_speed  layer_thickness  oxygen_content  density\n",
        "0           -1               -1               0     4.03\n",
        "1            1               -1               0     4.03\n",
        "2           -1                1               0     4.11\n",
        "3            1                1               0     4.09\n",
        "4           -1                0              -1     4.13\n",
        "5            1                0              -1     4.11\n",
        "6           -1                0               1     4.12\n",
        "7            1                0               1     4.11\n",
        "8            0               -1              -1     4.07\n",
        "9            0                1              -1     4.09\n",
        "10           0               -1               1     4.08\n",
        "11           0                1               1     4.10\n",
        "12           0                0               0     4.28\n",
        "13           0                0               0     4.29\n",
        "14           0                0               0     4.28"
       ]
      }
     ],
     "prompt_number": 46
    },
    {
     "cell_type": "markdown",
     "metadata": {},
     "source": [
      "'formula_text' below is in the syntax of a language called Patsy, which the statsmodels package uses to define design matrices. The term wrapped in \\*\\* 2 provides the design matrix with the 3 factors plus their two factor combinations. The terms wrapped in I(...) provide the second order factors."
     ]
    },
    {
     "cell_type": "code",
     "collapsed": false,
     "input": [
      "formula_text = 'density ~ (scan_speed + layer_thickness + oxygen_content) ** 2 + I(scan_speed ** 2) + I(layer_thickness ** 2) + I(oxygen_content ** 2)'"
     ],
     "language": "python",
     "metadata": {},
     "outputs": [],
     "prompt_number": 47
    },
    {
     "cell_type": "code",
     "collapsed": false,
     "input": [
      "y, X = dmatrices(formula_text, data=df, return_type='dataframe')"
     ],
     "language": "python",
     "metadata": {},
     "outputs": [],
     "prompt_number": 49
    },
    {
     "cell_type": "heading",
     "level": 3,
     "metadata": {},
     "source": [
      "Perform Ordinary Least Squares (OLS) Fit"
     ]
    },
    {
     "cell_type": "code",
     "collapsed": false,
     "input": [
      "mod = sm.OLS(y, X)"
     ],
     "language": "python",
     "metadata": {},
     "outputs": [],
     "prompt_number": 50
    },
    {
     "cell_type": "code",
     "collapsed": false,
     "input": [
      "density_fit = mod.fit()"
     ],
     "language": "python",
     "metadata": {},
     "outputs": [],
     "prompt_number": 51
    },
    {
     "cell_type": "code",
     "collapsed": false,
     "input": [
      "print(density_fit.summary())"
     ],
     "language": "python",
     "metadata": {},
     "outputs": [
      {
       "output_type": "stream",
       "stream": "stdout",
       "text": [
        "                            OLS Regression Results                            \n",
        "==============================================================================\n",
        "Dep. Variable:                density   R-squared:                       0.986\n",
        "Model:                            OLS   Adj. R-squared:                  0.960\n",
        "Method:                 Least Squares   F-statistic:                     38.77\n",
        "Date:                Thu, 04 Jun 2015   Prob (F-statistic):           0.000427\n",
        "Time:                        18:32:57   Log-Likelihood:                 48.091\n",
        "No. Observations:                  15   AIC:                            -76.18\n",
        "Df Residuals:                       5   BIC:                            -69.10\n",
        "Df Model:                           9                                         \n",
        "==================================================================================================\n",
        "                                     coef    std err          t      P>|t|      [95.0% Conf. Int.]\n",
        "--------------------------------------------------------------------------------------------------\n",
        "Intercept                          4.2833      0.010    436.913      0.000         4.258     4.309\n",
        "scan_speed                        -0.0062      0.006     -1.041      0.346        -0.022     0.009\n",
        "layer_thickness                    0.0225      0.006      3.748      0.013         0.007     0.038\n",
        "oxygen_content                     0.0012      0.006      0.208      0.843        -0.014     0.017\n",
        "scan_speed:layer_thickness        -0.0050      0.008     -0.589      0.582        -0.027     0.017\n",
        "scan_speed:oxygen_content          0.0025      0.008      0.294      0.780        -0.019     0.024\n",
        "layer_thickness:oxygen_content  3.751e-16      0.008   4.42e-14      1.000        -0.022     0.022\n",
        "I(scan_speed ** 2)                -0.0929      0.009    -10.515      0.000        -0.116    -0.070\n",
        "I(layer_thickness ** 2)           -0.1254      0.009    -14.192      0.000        -0.148    -0.103\n",
        "I(oxygen_content ** 2)            -0.0729      0.009     -8.251      0.000        -0.096    -0.050\n",
        "==============================================================================\n",
        "Omnibus:                        1.378   Durbin-Watson:                   2.329\n",
        "Prob(Omnibus):                  0.502   Jarque-Bera (JB):                0.807\n",
        "Skew:                           0.016   Prob(JB):                        0.668\n",
        "Kurtosis:                       1.864   Cond. No.                         4.24\n",
        "==============================================================================\n"
       ]
      },
      {
       "output_type": "stream",
       "stream": "stderr",
       "text": [
        "/local/anaconda3/lib/python3.4/site-packages/scipy/stats/stats.py:1205: UserWarning: kurtosistest only valid for n>=20 ... continuing anyway, n=15\n",
        "  int(n))\n"
       ]
      }
     ],
     "prompt_number": 55
    },
    {
     "cell_type": "code",
     "collapsed": false,
     "input": [
      "density_fit.params"
     ],
     "language": "python",
     "metadata": {},
     "outputs": [
      {
       "metadata": {},
       "output_type": "pyout",
       "prompt_number": 56,
       "text": [
        "Intercept                         4.283333e+00\n",
        "scan_speed                       -6.250000e-03\n",
        "layer_thickness                   2.250000e-02\n",
        "oxygen_content                    1.250000e-03\n",
        "scan_speed:layer_thickness       -5.000000e-03\n",
        "scan_speed:oxygen_content         2.500000e-03\n",
        "layer_thickness:oxygen_content    3.751340e-16\n",
        "I(scan_speed ** 2)               -9.291667e-02\n",
        "I(layer_thickness ** 2)          -1.254167e-01\n",
        "I(oxygen_content ** 2)           -7.291667e-02\n",
        "dtype: float64"
       ]
      }
     ],
     "prompt_number": 56
    },
    {
     "cell_type": "heading",
     "level": 3,
     "metadata": {},
     "source": [
      "Compare predicted with actual"
     ]
    },
    {
     "cell_type": "code",
     "collapsed": false,
     "input": [
      "def density_predict (scan_speed, layer_thick, oxygen):\n",
      "    \"predictive equation for density, from full quadratic model\"\n",
      "    den = density_fit.params[0] + \\\n",
      "    density_fit.params[1] * scan_speed + \\\n",
      "    density_fit.params[2] * layer_thick + \\\n",
      "    density_fit.params[3] * oxygen + \\\n",
      "    density_fit.params[4] * scan_speed * layer_thick + \\\n",
      "    density_fit.params[5] * scan_speed * oxygen + \\\n",
      "    density_fit.params[6] * layer_thick * oxygen + \\\n",
      "    density_fit.params[7] * scan_speed * scan_speed + \\\n",
      "    density_fit.params[8] * layer_thick * layer_thick + \\\n",
      "    density_fit.params[9] * oxygen * oxygen \n",
      "    return (den)"
     ],
     "language": "python",
     "metadata": {},
     "outputs": [],
     "prompt_number": 57
    },
    {
     "cell_type": "code",
     "collapsed": false,
     "input": [
      "df['predicted'] = [density_predict(*bbarray[i]) for i in range(0,len(bbarray))]"
     ],
     "language": "python",
     "metadata": {},
     "outputs": [],
     "prompt_number": 58
    },
    {
     "cell_type": "code",
     "collapsed": false,
     "input": [
      "df = df.rename(columns={'density' : 'actual'}) # rename so we don't get confused"
     ],
     "language": "python",
     "metadata": {},
     "outputs": [],
     "prompt_number": 59
    },
    {
     "cell_type": "code",
     "collapsed": false,
     "input": [
      "df['error'] = df.apply(lambda x : abs(x['actual']-x['predicted']) / x['actual'], axis=1)\n",
      "df"
     ],
     "language": "python",
     "metadata": {},
     "outputs": [
      {
       "html": [
        "<div style=\"max-height:1000px;max-width:1500px;overflow:auto;\">\n",
        "<table border=\"1\" class=\"dataframe\">\n",
        "  <thead>\n",
        "    <tr style=\"text-align: right;\">\n",
        "      <th></th>\n",
        "      <th>scan_speed</th>\n",
        "      <th>layer_thickness</th>\n",
        "      <th>oxygen_content</th>\n",
        "      <th>actual</th>\n",
        "      <th>predicted</th>\n",
        "      <th>error</th>\n",
        "    </tr>\n",
        "  </thead>\n",
        "  <tbody>\n",
        "    <tr>\n",
        "      <th>0 </th>\n",
        "      <td>-1</td>\n",
        "      <td>-1</td>\n",
        "      <td> 0</td>\n",
        "      <td> 4.03</td>\n",
        "      <td> 4.043750</td>\n",
        "      <td> 0.003412</td>\n",
        "    </tr>\n",
        "    <tr>\n",
        "      <th>1 </th>\n",
        "      <td> 1</td>\n",
        "      <td>-1</td>\n",
        "      <td> 0</td>\n",
        "      <td> 4.03</td>\n",
        "      <td> 4.041250</td>\n",
        "      <td> 0.002792</td>\n",
        "    </tr>\n",
        "    <tr>\n",
        "      <th>2 </th>\n",
        "      <td>-1</td>\n",
        "      <td> 1</td>\n",
        "      <td> 0</td>\n",
        "      <td> 4.11</td>\n",
        "      <td> 4.098750</td>\n",
        "      <td> 0.002737</td>\n",
        "    </tr>\n",
        "    <tr>\n",
        "      <th>3 </th>\n",
        "      <td> 1</td>\n",
        "      <td> 1</td>\n",
        "      <td> 0</td>\n",
        "      <td> 4.09</td>\n",
        "      <td> 4.076250</td>\n",
        "      <td> 0.003362</td>\n",
        "    </tr>\n",
        "    <tr>\n",
        "      <th>4 </th>\n",
        "      <td>-1</td>\n",
        "      <td> 0</td>\n",
        "      <td>-1</td>\n",
        "      <td> 4.13</td>\n",
        "      <td> 4.125000</td>\n",
        "      <td> 0.001211</td>\n",
        "    </tr>\n",
        "    <tr>\n",
        "      <th>5 </th>\n",
        "      <td> 1</td>\n",
        "      <td> 0</td>\n",
        "      <td>-1</td>\n",
        "      <td> 4.11</td>\n",
        "      <td> 4.107500</td>\n",
        "      <td> 0.000608</td>\n",
        "    </tr>\n",
        "    <tr>\n",
        "      <th>6 </th>\n",
        "      <td>-1</td>\n",
        "      <td> 0</td>\n",
        "      <td> 1</td>\n",
        "      <td> 4.12</td>\n",
        "      <td> 4.122500</td>\n",
        "      <td> 0.000607</td>\n",
        "    </tr>\n",
        "    <tr>\n",
        "      <th>7 </th>\n",
        "      <td> 1</td>\n",
        "      <td> 0</td>\n",
        "      <td> 1</td>\n",
        "      <td> 4.11</td>\n",
        "      <td> 4.115000</td>\n",
        "      <td> 0.001217</td>\n",
        "    </tr>\n",
        "    <tr>\n",
        "      <th>8 </th>\n",
        "      <td> 0</td>\n",
        "      <td>-1</td>\n",
        "      <td>-1</td>\n",
        "      <td> 4.07</td>\n",
        "      <td> 4.061250</td>\n",
        "      <td> 0.002150</td>\n",
        "    </tr>\n",
        "    <tr>\n",
        "      <th>9 </th>\n",
        "      <td> 0</td>\n",
        "      <td> 1</td>\n",
        "      <td>-1</td>\n",
        "      <td> 4.09</td>\n",
        "      <td> 4.106250</td>\n",
        "      <td> 0.003973</td>\n",
        "    </tr>\n",
        "    <tr>\n",
        "      <th>10</th>\n",
        "      <td> 0</td>\n",
        "      <td>-1</td>\n",
        "      <td> 1</td>\n",
        "      <td> 4.08</td>\n",
        "      <td> 4.063750</td>\n",
        "      <td> 0.003983</td>\n",
        "    </tr>\n",
        "    <tr>\n",
        "      <th>11</th>\n",
        "      <td> 0</td>\n",
        "      <td> 1</td>\n",
        "      <td> 1</td>\n",
        "      <td> 4.10</td>\n",
        "      <td> 4.108750</td>\n",
        "      <td> 0.002134</td>\n",
        "    </tr>\n",
        "    <tr>\n",
        "      <th>12</th>\n",
        "      <td> 0</td>\n",
        "      <td> 0</td>\n",
        "      <td> 0</td>\n",
        "      <td> 4.28</td>\n",
        "      <td> 4.283333</td>\n",
        "      <td> 0.000779</td>\n",
        "    </tr>\n",
        "    <tr>\n",
        "      <th>13</th>\n",
        "      <td> 0</td>\n",
        "      <td> 0</td>\n",
        "      <td> 0</td>\n",
        "      <td> 4.29</td>\n",
        "      <td> 4.283333</td>\n",
        "      <td> 0.001554</td>\n",
        "    </tr>\n",
        "    <tr>\n",
        "      <th>14</th>\n",
        "      <td> 0</td>\n",
        "      <td> 0</td>\n",
        "      <td> 0</td>\n",
        "      <td> 4.28</td>\n",
        "      <td> 4.283333</td>\n",
        "      <td> 0.000779</td>\n",
        "    </tr>\n",
        "  </tbody>\n",
        "</table>\n",
        "</div>"
       ],
       "metadata": {},
       "output_type": "pyout",
       "prompt_number": 70,
       "text": [
        "    scan_speed  layer_thickness  oxygen_content  actual  predicted     error\n",
        "0           -1               -1               0    4.03   4.043750  0.003412\n",
        "1            1               -1               0    4.03   4.041250  0.002792\n",
        "2           -1                1               0    4.11   4.098750  0.002737\n",
        "3            1                1               0    4.09   4.076250  0.003362\n",
        "4           -1                0              -1    4.13   4.125000  0.001211\n",
        "5            1                0              -1    4.11   4.107500  0.000608\n",
        "6           -1                0               1    4.12   4.122500  0.000607\n",
        "7            1                0               1    4.11   4.115000  0.001217\n",
        "8            0               -1              -1    4.07   4.061250  0.002150\n",
        "9            0                1              -1    4.09   4.106250  0.003973\n",
        "10           0               -1               1    4.08   4.063750  0.003983\n",
        "11           0                1               1    4.10   4.108750  0.002134\n",
        "12           0                0               0    4.28   4.283333  0.000779\n",
        "13           0                0               0    4.29   4.283333  0.001554\n",
        "14           0                0               0    4.28   4.283333  0.000779"
       ]
      }
     ],
     "prompt_number": 70
    },
    {
     "cell_type": "code",
     "collapsed": false,
     "input": [
      "df['error'].sum()"
     ],
     "language": "python",
     "metadata": {},
     "outputs": [
      {
       "metadata": {},
       "output_type": "pyout",
       "prompt_number": 71,
       "text": [
        "0.031296431517094256"
       ]
      }
     ],
     "prompt_number": 71
    },
    {
     "cell_type": "heading",
     "level": 3,
     "metadata": {},
     "source": [
      "Plot results"
     ]
    },
    {
     "cell_type": "markdown",
     "metadata": {},
     "source": [
      "*POD: In the following, make sure you have the dimensions correct. (Try different deltas. Compare with contour plot example.)*"
     ]
    },
    {
     "cell_type": "code",
     "collapsed": false,
     "input": [
      "delta = 0.025\n",
      "x_sspeed = np.arange(-1.0, 1.0, delta)\n",
      "y_lthick = np.arange(-1.0, 1.0, delta)\n",
      "z_density = np.array([[density_predict(x,y,0) for x in x_sspeed] for y in y_lthick]) # oxygen = 0\n",
      "x_grid, y_grid = np.meshgrid(x_sspeed, y_lthick)"
     ],
     "language": "python",
     "metadata": {},
     "outputs": [],
     "prompt_number": 72
    },
    {
     "cell_type": "code",
     "collapsed": false,
     "input": [
      "plt.figure()\n",
      "CS = plt.contour(x_grid, y_grid, z_density)\n",
      "plt.clabel(CS, inline=1, fontsize=10)\n",
      "plt.title('Predicted density: x=scan speed, y=layer thickness at oxygen=0')"
     ],
     "language": "python",
     "metadata": {},
     "outputs": [
      {
       "metadata": {},
       "output_type": "pyout",
       "prompt_number": 66,
       "text": [
        "<matplotlib.text.Text at 0x7fc3d35592b0>"
       ]
      },
      {
       "metadata": {},
       "output_type": "display_data",
       "png": "[encoded data removed]",
       "text": [
        "<matplotlib.figure.Figure at 0x7fc3d3691860>"
       ]
      }
     ],
     "prompt_number": 66
    },
    {
     "cell_type": "heading",
     "level": 3,
     "metadata": {},
     "source": [
      "Save the completed equation"
     ]
    },
    {
     "cell_type": "code",
     "collapsed": false,
     "input": [
      "ereps.assert_predictive('Eqn1',density_fit)"
     ],
     "language": "python",
     "metadata": {},
     "outputs": [
      {
       "output_type": "stream",
       "stream": "stdout",
       "text": [
        "Coefficients asserted as follows:\n",
        "             B0  =  4.2833333e+00\n",
        "             B1  = -6.2500000e-03 (scan_speed)\n",
        "             B2  =  2.2500000e-02 (layer_thickness)\n",
        "             B3  =  1.2500000e-03 (oxygen_content)\n",
        "             B12 = -5.0000000e-03 (scan_speed * layer_thickness)\n",
        "             B13 =  2.5000000e-03 (scan_speed * oxygen_content)\n",
        "             B23 =  3.7513395e-16 (layer_thickness * oxygen_content)\n",
        "             B11 = -9.2916667e-02 (scan_speed * scan_speed)\n",
        "             B22 = -1.2541667e-01 (layer_thickness * layer_thickness)\n",
        "             B33 = -7.2916667e-02 (oxygen_content * oxygen_content)\n"
       ]
      }
     ],
     "prompt_number": 67
    }
   ],
   "metadata": {}
  }
 ]
}